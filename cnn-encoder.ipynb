{
 "cells": [
  {
   "cell_type": "markdown",
   "metadata": {},
   "source": [
    "# CNN Encoder\n",
    "This notebook walks through a practical example of a Convolutional Neural Network (CNN) Encoder, used to compress an image into a latent representation. This representation is typically trained end-to-end with a CNN Decoder block, which aims to reconstruct the source image from this compressed representation. This steers the compressed representation into something that captures the key bits of information captured in the image. Once trained, this compressed representation can be used for downstream tasks such as image classification.\n",
    "\n",
    "The CNN Encoder component typically consists of several convolutional operators stacked on top of each other. It is thus helpful to first gain an understanding of the convolutional operator. From a practical standpoint, it will be most helpful to understand the impact of the convolutional operator's parameters on the output shape of the image at each layer, as this will dictate the final vector size of the compressed representaiton\n",
    "\n",
    "In what follows, we will have a practical look and dive into a CNN Encoder using PyTorch.\n",
    "\n",
    "## Convolutional Operator\n",
    "Let us first showcase a simple example with one convolutional operator.\n",
    "\n",
    "First, we will create a simple tensor representing our source image. This image will consist 6 x 6 pixels and will have three channels representing Red, Green, and Blue (RGB). Note that Pytorch typically orders its tensors as $(C, H, W)$ channels, height, width."
   ]
  },
  {
   "cell_type": "code",
   "execution_count": 10,
   "metadata": {},
   "outputs": [
    {
     "name": "stdout",
     "output_type": "stream",
     "text": [
      "Source image channels: 3\n",
      "Source image height: 6\n",
      "Source image width: 6\n"
     ]
    }
   ],
   "source": [
    "import torch\n",
    "\n",
    "source_image = torch.rand(3, 6, 6)\n",
    "src_c, src_h, src_w = source_image.size()\n",
    "print(f\"Source image channels: {src_c}\")\n",
    "print(f\"Source image height: {src_h}\")\n",
    "print(f\"Source image width: {src_w}\")\n"
   ]
  },
  {
   "cell_type": "markdown",
   "metadata": {},
   "source": [
    "Now we can create our convolutional operator, with some intial parameters:"
   ]
  },
  {
   "cell_type": "code",
   "execution_count": 30,
   "metadata": {},
   "outputs": [],
   "source": [
    "out_channels: int = 3\n",
    "kernel_size: int = 2\n",
    "stride: int = 1\n",
    "padding: int = 0\n",
    "\n",
    "conv = torch.nn.Conv2d(src_c, out_channels, kernel_size, stride, padding, dilation=None)"
   ]
  },
  {
   "cell_type": "markdown",
   "metadata": {},
   "source": [
    "the `Conv2d` operator assumes that the first dimension of our image is the batch size, so let's quickly add an extra dimension to our sensor:"
   ]
  },
  {
   "cell_type": "code",
   "execution_count": 32,
   "metadata": {},
   "outputs": [
    {
     "data": {
      "text/plain": [
       "torch.Size([1, 3, 6, 6])"
      ]
     },
     "execution_count": 32,
     "metadata": {},
     "output_type": "execute_result"
    }
   ],
   "source": [
    "source_image_batched = source_image.unsqueeze(0)\n",
    "source_image_batched.size()"
   ]
  },
  {
   "cell_type": "markdown",
   "metadata": {},
   "source": [
    "Now we can pass our image through our convolution:"
   ]
  },
  {
   "cell_type": "code",
   "execution_count": 33,
   "metadata": {},
   "outputs": [
    {
     "data": {
      "text/plain": [
       "tensor([[[[-0.0736, -0.2053, -0.2680, -0.4883, -0.1210],\n",
       "          [-0.4622, -0.3080, -0.1221, -0.2786, -0.5613],\n",
       "          [-0.4050, -0.0385, -0.4267, -0.2689, -0.3818],\n",
       "          [-0.4389, -0.4080, -0.3348, -0.3209, -0.5775],\n",
       "          [-0.3485, -0.2811, -0.4165, -0.1599, -0.6860]],\n",
       "\n",
       "         [[ 0.0074, -0.3226, -0.0768, -0.4606, -0.1248],\n",
       "          [-0.4148,  0.0548, -0.1139, -0.1483, -0.0555],\n",
       "          [-0.1762, -0.1939, -0.3049, -0.2043, -0.6298],\n",
       "          [ 0.0801,  0.1616,  0.1777,  0.0369, -0.3378],\n",
       "          [-0.3325, -0.3473, -0.1215, -0.0907, -0.2764]],\n",
       "\n",
       "         [[ 0.2902, -0.0183,  0.3065,  0.0918, -0.1053],\n",
       "          [ 0.2768,  0.0523,  0.0537,  0.0480,  0.3034],\n",
       "          [ 0.0597,  0.0448, -0.1029, -0.0742,  0.0137],\n",
       "          [ 0.2168,  0.0698,  0.0264,  0.0750,  0.1205],\n",
       "          [ 0.2202, -0.0126,  0.1453,  0.0804,  0.4039]]]],\n",
       "       grad_fn=<ConvolutionBackward0>)"
      ]
     },
     "execution_count": 33,
     "metadata": {},
     "output_type": "execute_result"
    }
   ],
   "source": [
    "conv(source_image_batched)"
   ]
  },
  {
   "cell_type": "markdown",
   "metadata": {},
   "source": [
    "With our given parameters, we can see that the shape of our tensor has not changed:"
   ]
  },
  {
   "cell_type": "code",
   "execution_count": 34,
   "metadata": {},
   "outputs": [
    {
     "data": {
      "text/plain": [
       "torch.Size([1, 3, 5, 5])"
      ]
     },
     "execution_count": 34,
     "metadata": {},
     "output_type": "execute_result"
    }
   ],
   "source": [
    "conv(source_image_batched).size()"
   ]
  }
 ],
 "metadata": {
  "kernelspec": {
   "display_name": "deep_learning",
   "language": "python",
   "name": "python3"
  },
  "language_info": {
   "codemirror_mode": {
    "name": "ipython",
    "version": 3
   },
   "file_extension": ".py",
   "mimetype": "text/x-python",
   "name": "python",
   "nbconvert_exporter": "python",
   "pygments_lexer": "ipython3",
   "version": "3.10.12"
  }
 },
 "nbformat": 4,
 "nbformat_minor": 2
}
